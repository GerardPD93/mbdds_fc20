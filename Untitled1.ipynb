{
  "nbformat": 4,
  "nbformat_minor": 0,
  "metadata": {
    "colab": {
      "name": "Untitled1.ipynb",
      "provenance": [],
      "collapsed_sections": [],
      "authorship_tag": "ABX9TyNIBJjNYOktSNMrI1uEv4b5",
      "include_colab_link": true
    },
    "kernelspec": {
      "name": "python3",
      "display_name": "Python 3"
    },
    "language_info": {
      "name": "python"
    }
  },
  "cells": [
    {
      "cell_type": "markdown",
      "metadata": {
        "id": "view-in-github",
        "colab_type": "text"
      },
      "source": [
        "<a href=\"https://colab.research.google.com/github/GerardPD93/mbdds_fc20/blob/master/Untitled1.ipynb\" target=\"_parent\"><img src=\"https://colab.research.google.com/assets/colab-badge.svg\" alt=\"Open In Colab\"/></a>"
      ]
    },
    {
      "cell_type": "code",
      "metadata": {
        "id": "ZbXaTr6Tbkik"
      },
      "source": [
        "import json\n",
        "import pymongo\n",
        "import tweepy\n",
        "import urllib\n",
        "import time\n"
      ],
      "execution_count": 124,
      "outputs": []
    },
    {
      "cell_type": "code",
      "metadata": {
        "id": "buZfBMJebkim"
      },
      "source": [
        "\n",
        "consumer_key = \"OgvolDqUgZCOwEil2d80KoqlU\"\n",
        "consumer_secret = \"gld5Fy2Ge6mc1RExigJ5jqgCuZMrEqlYeubtzdmUOJXDe0JrC9\"\n",
        "\n",
        "access_key = \"594495280-kGrZoQuPyUXv8RHdTk0WHxPR0QZrd78RJyYYDTMB\"\n",
        "access_secret = \"hRSPNsDdTiR0sPnw7rPapvsLrRmOWzQgVZXBYCW1cTEQ7\"\n"
      ],
      "execution_count": 3,
      "outputs": []
    },
    {
      "cell_type": "code",
      "metadata": {
        "id": "_GP1OkbXbkin"
      },
      "source": [
        "auth = tweepy.OAuthHandler(consumer_key, consumer_secret)\n",
        "auth.set_access_token(access_key, access_secret)\n",
        "api = tweepy.API(auth)"
      ],
      "execution_count": 4,
      "outputs": []
    },
    {
      "cell_type": "code",
      "metadata": {
        "id": "YVq1H1wFbkin"
      },
      "source": [
        "USER_NAME = \"rosalia\"\n",
        "user = api.get_user(id=USER_NAME)"
      ],
      "execution_count": 37,
      "outputs": []
    },
    {
      "cell_type": "code",
      "metadata": {
        "colab": {
          "base_uri": "https://localhost:8080/",
          "height": 35
        },
        "id": "-FxhWbhoy_-p",
        "outputId": "3d82ae2a-37f5-4a1c-8b2f-045d1a1abc2c"
      },
      "source": [
        "user.screen_name"
      ],
      "execution_count": 6,
      "outputs": [
        {
          "output_type": "execute_result",
          "data": {
            "application/vnd.google.colaboratory.intrinsic+json": {
              "type": "string"
            },
            "text/plain": [
              "'rosalia'"
            ]
          },
          "metadata": {
            "tags": []
          },
          "execution_count": 6
        }
      ]
    },
    {
      "cell_type": "code",
      "metadata": {
        "colab": {
          "base_uri": "https://localhost:8080/"
        },
        "id": "ySKdp1z0zGy9",
        "outputId": "c56aa789-4e1e-46d9-8a1a-af9748827f23"
      },
      "source": [
        "user.id"
      ],
      "execution_count": 7,
      "outputs": [
        {
          "output_type": "execute_result",
          "data": {
            "text/plain": [
              "1728956976"
            ]
          },
          "metadata": {
            "tags": []
          },
          "execution_count": 7
        }
      ]
    },
    {
      "cell_type": "code",
      "metadata": {
        "id": "RaqIAYIIbkip",
        "colab": {
          "base_uri": "https://localhost:8080/"
        },
        "outputId": "fcd0c086-a85c-4180-83c2-3547807c0565"
      },
      "source": [
        "user.created_at"
      ],
      "execution_count": 8,
      "outputs": [
        {
          "output_type": "execute_result",
          "data": {
            "text/plain": [
              "datetime.datetime(2013, 9, 4, 14, 48, 54)"
            ]
          },
          "metadata": {
            "tags": []
          },
          "execution_count": 8
        }
      ]
    },
    {
      "cell_type": "code",
      "metadata": {
        "colab": {
          "base_uri": "https://localhost:8080/"
        },
        "id": "RKpULXlV0Abk",
        "outputId": "4b3dbf22-eda0-4c8c-ce63-b887d9a6b9aa"
      },
      "source": [
        "user._json"
      ],
      "execution_count": 9,
      "outputs": [
        {
          "output_type": "execute_result",
          "data": {
            "text/plain": [
              "{'contributors_enabled': False,\n",
              " 'created_at': 'Wed Sep 04 14:48:54 +0000 2013',\n",
              " 'default_profile': False,\n",
              " 'default_profile_image': False,\n",
              " 'description': 'https://t.co/eSmopJzW1W 🔥🔥 💖 🔥 🔥',\n",
              " 'entities': {'description': {'urls': [{'display_url': 'ROSALIA.COM',\n",
              "     'expanded_url': 'http://WWW.ROSALIA.COM',\n",
              "     'indices': [0, 23],\n",
              "     'url': 'https://t.co/eSmopJzW1W'}]},\n",
              "  'url': {'urls': [{'display_url': 'ROSALIA.lnk.to/ElMalQuerer',\n",
              "     'expanded_url': 'https://ROSALIA.lnk.to/ElMalQuerer',\n",
              "     'indices': [0, 23],\n",
              "     'url': 'https://t.co/EYuX4z6wmZ'}]}},\n",
              " 'favourites_count': 27512,\n",
              " 'follow_request_sent': False,\n",
              " 'followers_count': 2675787,\n",
              " 'following': False,\n",
              " 'friends_count': 27,\n",
              " 'geo_enabled': True,\n",
              " 'has_extended_profile': False,\n",
              " 'id': 1728956976,\n",
              " 'id_str': '1728956976',\n",
              " 'is_translation_enabled': False,\n",
              " 'is_translator': False,\n",
              " 'lang': None,\n",
              " 'listed_count': 972,\n",
              " 'location': 'Barcelona',\n",
              " 'name': 'R O S A L Í A',\n",
              " 'notifications': False,\n",
              " 'profile_background_color': '121414',\n",
              " 'profile_background_image_url': 'http://abs.twimg.com/images/themes/theme1/bg.png',\n",
              " 'profile_background_image_url_https': 'https://abs.twimg.com/images/themes/theme1/bg.png',\n",
              " 'profile_background_tile': True,\n",
              " 'profile_banner_url': 'https://pbs.twimg.com/profile_banners/1728956976/1558316306',\n",
              " 'profile_image_url': 'http://pbs.twimg.com/profile_images/1410016832048746498/7nb0zbG6_normal.jpg',\n",
              " 'profile_image_url_https': 'https://pbs.twimg.com/profile_images/1410016832048746498/7nb0zbG6_normal.jpg',\n",
              " 'profile_link_color': 'E81C4F',\n",
              " 'profile_location': None,\n",
              " 'profile_sidebar_border_color': 'FFFFFF',\n",
              " 'profile_sidebar_fill_color': 'DDEEF6',\n",
              " 'profile_text_color': '333333',\n",
              " 'profile_use_background_image': True,\n",
              " 'protected': False,\n",
              " 'screen_name': 'rosalia',\n",
              " 'status': {'contributors': None,\n",
              "  'coordinates': None,\n",
              "  'created_at': 'Tue Jun 29 23:24:17 +0000 2021',\n",
              "  'entities': {'hashtags': [],\n",
              "   'symbols': [],\n",
              "   'urls': [],\n",
              "   'user_mentions': [{'id': 1266345569506729986,\n",
              "     'id_str': '1266345569506729986',\n",
              "     'indices': [0, 16],\n",
              "     'name': 'Tweets de Rosalia Explicados',\n",
              "     'screen_name': 'rosaliaExplicad'}]},\n",
              "  'favorite_count': 1538,\n",
              "  'favorited': False,\n",
              "  'geo': None,\n",
              "  'id': 1410016301981089793,\n",
              "  'id_str': '1410016301981089793',\n",
              "  'in_reply_to_screen_name': 'rosaliaExplicad',\n",
              "  'in_reply_to_status_id': 1410015400952320004,\n",
              "  'in_reply_to_status_id_str': '1410015400952320004',\n",
              "  'in_reply_to_user_id': 1266345569506729986,\n",
              "  'in_reply_to_user_id_str': '1266345569506729986',\n",
              "  'is_quote_status': False,\n",
              "  'lang': 'es',\n",
              "  'place': None,\n",
              "  'retweet_count': 56,\n",
              "  'retweeted': False,\n",
              "  'source': '<a href=\"http://twitter.com/download/iphone\" rel=\"nofollow\">Twitter for iPhone</a>',\n",
              "  'text': '@rosaliaExplicad Exactamente',\n",
              "  'truncated': False},\n",
              " 'statuses_count': 5633,\n",
              " 'time_zone': None,\n",
              " 'translator_type': 'none',\n",
              " 'url': 'https://t.co/EYuX4z6wmZ',\n",
              " 'utc_offset': None,\n",
              " 'verified': True,\n",
              " 'withheld_in_countries': []}"
            ]
          },
          "metadata": {
            "tags": []
          },
          "execution_count": 9
        }
      ]
    },
    {
      "cell_type": "code",
      "metadata": {
        "colab": {
          "base_uri": "https://localhost:8080/"
        },
        "id": "iObh2fbk0Go6",
        "outputId": "b021efeb-10df-4203-fa7b-bd8e56527966"
      },
      "source": [
        "amiguetes=[]\n",
        "for friend in tweepy.Cursor(api.friends, USER_NAME).items(50):\n",
        "    amiguetes.append(friend.name)\n",
        "amiguetes\n",
        "#user\n",
        "#api.friends(screen_name=\"rosalia\")"
      ],
      "execution_count": 139,
      "outputs": [
        {
          "output_type": "execute_result",
          "data": {
            "text/plain": [
              "['KAYDY CAIN',\n",
              " 'dragonlocodefuego',\n",
              " 'Caetano Veloso',\n",
              " 'opn',\n",
              " 'jimmy fallon',\n",
              " 'Hiro Murai',\n",
              " 'Maya C. Popa',\n",
              " 'Historia del Arte',\n",
              " 'Yoko Ono 🌳💚🌏',\n",
              " 'Elon Musk',\n",
              " 'R A U W A L E J A N D R O',\n",
              " 'Missy Elliott',\n",
              " 'YouTube Japan',\n",
              " 'James Blake',\n",
              " \"Charm La'Donna\",\n",
              " 'Arca',\n",
              " 'Camarón de la Isla',\n",
              " 'Pilar',\n",
              " '💋🧛🏿\\u200d♀️',\n",
              " 'Caroline Shaw',\n",
              " 'Kylie Jenner',\n",
              " 'Chlöe',\n",
              " 'roku',\n",
              " 'Mercè Rodoreda',\n",
              " '🌊eticia sala',\n",
              " 'uzi',\n",
              " 'LIL MOCHI']"
            ]
          },
          "metadata": {
            "tags": []
          },
          "execution_count": 139
        }
      ]
    },
    {
      "cell_type": "code",
      "metadata": {
        "colab": {
          "base_uri": "https://localhost:8080/"
        },
        "id": "XjGkV1eh-uwN",
        "outputId": "009d9cc9-a45d-430d-a435-91583e257e56"
      },
      "source": [
        "Maxfollowers = 0\n",
        "Nombre = \"\"\n",
        "for friend in tweepy.Cursor(api.friends, USER_NAME).items(50):\n",
        "    followers = api.get_user(id=friend.screen_name).followers_count\n",
        "    if (followers>Maxfollowers):\n",
        "      Maxfollowers = followers\n",
        "      Nombre = friend.name\n",
        "    \n",
        "print(\"La cuenta seguida con mas followers es\", Nombre, \"con\", Maxfollowers, \"seguidores\")"
      ],
      "execution_count": 57,
      "outputs": [
        {
          "output_type": "stream",
          "text": [
            "El seguidor con mas followers es Elon Musk con 57673284 seguidores\n"
          ],
          "name": "stdout"
        }
      ]
    },
    {
      "cell_type": "code",
      "metadata": {
        "colab": {
          "base_uri": "https://localhost:8080/"
        },
        "id": "79iAaOA5EqD9",
        "outputId": "e52e366c-be68-4bc0-d4d3-968495e0dad3"
      },
      "source": [
        "tweets=[]\n",
        "count=0\n",
        "for tweet in tweepy.Cursor(api.user_timeline, USER_NAME).items(500):\n",
        "  if ((not hasattr(tweet, \"retweeted_status\")) & (tweet.in_reply_to_status_id is None)):\n",
        "    count+=1\n",
        "    tweets.append(tweet._json)\n",
        "  if (count==5):\n",
        "    break\n",
        "tweets"
      ],
      "execution_count": 107,
      "outputs": [
        {
          "output_type": "execute_result",
          "data": {
            "text/plain": [
              "[{'contributors': None,\n",
              "  'coordinates': None,\n",
              "  'created_at': 'Tue Jun 29 23:00:23 +0000 2021',\n",
              "  'entities': {'hashtags': [], 'symbols': [], 'urls': [], 'user_mentions': []},\n",
              "  'favorite_count': 14513,\n",
              "  'favorited': False,\n",
              "  'geo': None,\n",
              "  'id': 1410010286023716868,\n",
              "  'id_str': '1410010286023716868',\n",
              "  'in_reply_to_screen_name': None,\n",
              "  'in_reply_to_status_id': None,\n",
              "  'in_reply_to_status_id_str': None,\n",
              "  'in_reply_to_user_id': None,\n",
              "  'in_reply_to_user_id_str': None,\n",
              "  'is_quote_status': False,\n",
              "  'lang': 'es',\n",
              "  'place': None,\n",
              "  'retweet_count': 836,\n",
              "  'retweeted': False,\n",
              "  'source': '<a href=\"http://twitter.com/download/iphone\" rel=\"nofollow\">Twitter for iPhone</a>',\n",
              "  'text': 'Pk Paris es tan bonito?!!!!!??No entiendo',\n",
              "  'truncated': False,\n",
              "  'user': {'contributors_enabled': False,\n",
              "   'created_at': 'Wed Sep 04 14:48:54 +0000 2013',\n",
              "   'default_profile': False,\n",
              "   'default_profile_image': False,\n",
              "   'description': 'https://t.co/eSmopJzW1W 🔥🔥 💖 🔥 🔥',\n",
              "   'entities': {'description': {'urls': [{'display_url': 'ROSALIA.COM',\n",
              "       'expanded_url': 'http://WWW.ROSALIA.COM',\n",
              "       'indices': [0, 23],\n",
              "       'url': 'https://t.co/eSmopJzW1W'}]},\n",
              "    'url': {'urls': [{'display_url': 'ROSALIA.lnk.to/ElMalQuerer',\n",
              "       'expanded_url': 'https://ROSALIA.lnk.to/ElMalQuerer',\n",
              "       'indices': [0, 23],\n",
              "       'url': 'https://t.co/EYuX4z6wmZ'}]}},\n",
              "   'favourites_count': 27512,\n",
              "   'follow_request_sent': False,\n",
              "   'followers_count': 2675930,\n",
              "   'following': False,\n",
              "   'friends_count': 27,\n",
              "   'geo_enabled': True,\n",
              "   'has_extended_profile': False,\n",
              "   'id': 1728956976,\n",
              "   'id_str': '1728956976',\n",
              "   'is_translation_enabled': False,\n",
              "   'is_translator': False,\n",
              "   'lang': None,\n",
              "   'listed_count': 974,\n",
              "   'location': 'Barcelona',\n",
              "   'name': 'R O S A L Í A',\n",
              "   'notifications': False,\n",
              "   'profile_background_color': '121414',\n",
              "   'profile_background_image_url': 'http://abs.twimg.com/images/themes/theme1/bg.png',\n",
              "   'profile_background_image_url_https': 'https://abs.twimg.com/images/themes/theme1/bg.png',\n",
              "   'profile_background_tile': True,\n",
              "   'profile_banner_url': 'https://pbs.twimg.com/profile_banners/1728956976/1558316306',\n",
              "   'profile_image_url': 'http://pbs.twimg.com/profile_images/1410016832048746498/7nb0zbG6_normal.jpg',\n",
              "   'profile_image_url_https': 'https://pbs.twimg.com/profile_images/1410016832048746498/7nb0zbG6_normal.jpg',\n",
              "   'profile_link_color': 'E81C4F',\n",
              "   'profile_sidebar_border_color': 'FFFFFF',\n",
              "   'profile_sidebar_fill_color': 'DDEEF6',\n",
              "   'profile_text_color': '333333',\n",
              "   'profile_use_background_image': True,\n",
              "   'protected': False,\n",
              "   'screen_name': 'rosalia',\n",
              "   'statuses_count': 5633,\n",
              "   'time_zone': None,\n",
              "   'translator_type': 'none',\n",
              "   'url': 'https://t.co/EYuX4z6wmZ',\n",
              "   'utc_offset': None,\n",
              "   'verified': True,\n",
              "   'withheld_in_countries': []}},\n",
              " {'contributors': None,\n",
              "  'coordinates': None,\n",
              "  'created_at': 'Tue Jun 29 22:58:52 +0000 2021',\n",
              "  'entities': {'hashtags': [], 'symbols': [], 'urls': [], 'user_mentions': []},\n",
              "  'favorite_count': 14034,\n",
              "  'favorited': False,\n",
              "  'geo': None,\n",
              "  'id': 1410009905679929350,\n",
              "  'id_str': '1410009905679929350',\n",
              "  'in_reply_to_screen_name': None,\n",
              "  'in_reply_to_status_id': None,\n",
              "  'in_reply_to_status_id_str': None,\n",
              "  'in_reply_to_user_id': None,\n",
              "  'in_reply_to_user_id_str': None,\n",
              "  'is_quote_status': False,\n",
              "  'lang': 'es',\n",
              "  'place': None,\n",
              "  'retweet_count': 586,\n",
              "  'retweeted': False,\n",
              "  'source': '<a href=\"http://twitter.com/download/iphone\" rel=\"nofollow\">Twitter for iPhone</a>',\n",
              "  'text': 'Se k m importa xk n puedo evitar comprarle ositos y bombones cada vez k paso x un aeropuerto',\n",
              "  'truncated': False,\n",
              "  'user': {'contributors_enabled': False,\n",
              "   'created_at': 'Wed Sep 04 14:48:54 +0000 2013',\n",
              "   'default_profile': False,\n",
              "   'default_profile_image': False,\n",
              "   'description': 'https://t.co/eSmopJzW1W 🔥🔥 💖 🔥 🔥',\n",
              "   'entities': {'description': {'urls': [{'display_url': 'ROSALIA.COM',\n",
              "       'expanded_url': 'http://WWW.ROSALIA.COM',\n",
              "       'indices': [0, 23],\n",
              "       'url': 'https://t.co/eSmopJzW1W'}]},\n",
              "    'url': {'urls': [{'display_url': 'ROSALIA.lnk.to/ElMalQuerer',\n",
              "       'expanded_url': 'https://ROSALIA.lnk.to/ElMalQuerer',\n",
              "       'indices': [0, 23],\n",
              "       'url': 'https://t.co/EYuX4z6wmZ'}]}},\n",
              "   'favourites_count': 27512,\n",
              "   'follow_request_sent': False,\n",
              "   'followers_count': 2675930,\n",
              "   'following': False,\n",
              "   'friends_count': 27,\n",
              "   'geo_enabled': True,\n",
              "   'has_extended_profile': False,\n",
              "   'id': 1728956976,\n",
              "   'id_str': '1728956976',\n",
              "   'is_translation_enabled': False,\n",
              "   'is_translator': False,\n",
              "   'lang': None,\n",
              "   'listed_count': 974,\n",
              "   'location': 'Barcelona',\n",
              "   'name': 'R O S A L Í A',\n",
              "   'notifications': False,\n",
              "   'profile_background_color': '121414',\n",
              "   'profile_background_image_url': 'http://abs.twimg.com/images/themes/theme1/bg.png',\n",
              "   'profile_background_image_url_https': 'https://abs.twimg.com/images/themes/theme1/bg.png',\n",
              "   'profile_background_tile': True,\n",
              "   'profile_banner_url': 'https://pbs.twimg.com/profile_banners/1728956976/1558316306',\n",
              "   'profile_image_url': 'http://pbs.twimg.com/profile_images/1410016832048746498/7nb0zbG6_normal.jpg',\n",
              "   'profile_image_url_https': 'https://pbs.twimg.com/profile_images/1410016832048746498/7nb0zbG6_normal.jpg',\n",
              "   'profile_link_color': 'E81C4F',\n",
              "   'profile_sidebar_border_color': 'FFFFFF',\n",
              "   'profile_sidebar_fill_color': 'DDEEF6',\n",
              "   'profile_text_color': '333333',\n",
              "   'profile_use_background_image': True,\n",
              "   'protected': False,\n",
              "   'screen_name': 'rosalia',\n",
              "   'statuses_count': 5633,\n",
              "   'time_zone': None,\n",
              "   'translator_type': 'none',\n",
              "   'url': 'https://t.co/EYuX4z6wmZ',\n",
              "   'utc_offset': None,\n",
              "   'verified': True,\n",
              "   'withheld_in_countries': []}},\n",
              " {'contributors': None,\n",
              "  'coordinates': None,\n",
              "  'created_at': 'Mon Jun 28 14:03:07 +0000 2021',\n",
              "  'entities': {'hashtags': [], 'symbols': [], 'urls': [], 'user_mentions': []},\n",
              "  'favorite_count': 20530,\n",
              "  'favorited': False,\n",
              "  'geo': None,\n",
              "  'id': 1409512690599575557,\n",
              "  'id_str': '1409512690599575557',\n",
              "  'in_reply_to_screen_name': None,\n",
              "  'in_reply_to_status_id': None,\n",
              "  'in_reply_to_status_id_str': None,\n",
              "  'in_reply_to_user_id': None,\n",
              "  'in_reply_to_user_id_str': None,\n",
              "  'is_quote_status': False,\n",
              "  'lang': 'es',\n",
              "  'place': None,\n",
              "  'retweet_count': 1638,\n",
              "  'retweeted': False,\n",
              "  'source': '<a href=\"http://twitter.com/download/iphone\" rel=\"nofollow\">Twitter for iPhone</a>',\n",
              "  'text': 'Con orgulloooooo',\n",
              "  'truncated': False,\n",
              "  'user': {'contributors_enabled': False,\n",
              "   'created_at': 'Wed Sep 04 14:48:54 +0000 2013',\n",
              "   'default_profile': False,\n",
              "   'default_profile_image': False,\n",
              "   'description': 'https://t.co/eSmopJzW1W 🔥🔥 💖 🔥 🔥',\n",
              "   'entities': {'description': {'urls': [{'display_url': 'ROSALIA.COM',\n",
              "       'expanded_url': 'http://WWW.ROSALIA.COM',\n",
              "       'indices': [0, 23],\n",
              "       'url': 'https://t.co/eSmopJzW1W'}]},\n",
              "    'url': {'urls': [{'display_url': 'ROSALIA.lnk.to/ElMalQuerer',\n",
              "       'expanded_url': 'https://ROSALIA.lnk.to/ElMalQuerer',\n",
              "       'indices': [0, 23],\n",
              "       'url': 'https://t.co/EYuX4z6wmZ'}]}},\n",
              "   'favourites_count': 27512,\n",
              "   'follow_request_sent': False,\n",
              "   'followers_count': 2675930,\n",
              "   'following': False,\n",
              "   'friends_count': 27,\n",
              "   'geo_enabled': True,\n",
              "   'has_extended_profile': False,\n",
              "   'id': 1728956976,\n",
              "   'id_str': '1728956976',\n",
              "   'is_translation_enabled': False,\n",
              "   'is_translator': False,\n",
              "   'lang': None,\n",
              "   'listed_count': 974,\n",
              "   'location': 'Barcelona',\n",
              "   'name': 'R O S A L Í A',\n",
              "   'notifications': False,\n",
              "   'profile_background_color': '121414',\n",
              "   'profile_background_image_url': 'http://abs.twimg.com/images/themes/theme1/bg.png',\n",
              "   'profile_background_image_url_https': 'https://abs.twimg.com/images/themes/theme1/bg.png',\n",
              "   'profile_background_tile': True,\n",
              "   'profile_banner_url': 'https://pbs.twimg.com/profile_banners/1728956976/1558316306',\n",
              "   'profile_image_url': 'http://pbs.twimg.com/profile_images/1410016832048746498/7nb0zbG6_normal.jpg',\n",
              "   'profile_image_url_https': 'https://pbs.twimg.com/profile_images/1410016832048746498/7nb0zbG6_normal.jpg',\n",
              "   'profile_link_color': 'E81C4F',\n",
              "   'profile_sidebar_border_color': 'FFFFFF',\n",
              "   'profile_sidebar_fill_color': 'DDEEF6',\n",
              "   'profile_text_color': '333333',\n",
              "   'profile_use_background_image': True,\n",
              "   'protected': False,\n",
              "   'screen_name': 'rosalia',\n",
              "   'statuses_count': 5633,\n",
              "   'time_zone': None,\n",
              "   'translator_type': 'none',\n",
              "   'url': 'https://t.co/EYuX4z6wmZ',\n",
              "   'utc_offset': None,\n",
              "   'verified': True,\n",
              "   'withheld_in_countries': []}},\n",
              " {'contributors': None,\n",
              "  'coordinates': None,\n",
              "  'created_at': 'Tue Jun 15 12:52:49 +0000 2021',\n",
              "  'entities': {'hashtags': [],\n",
              "   'media': [{'display_url': 'pic.twitter.com/nKUngL7x1Y',\n",
              "     'expanded_url': 'https://twitter.com/rosalia/status/1404783958030786561/photo/1',\n",
              "     'id': 1404783652500918278,\n",
              "     'id_str': '1404783652500918278',\n",
              "     'indices': [54, 77],\n",
              "     'media_url': 'http://pbs.twimg.com/media/E37LSgGX0AYLxsy.jpg',\n",
              "     'media_url_https': 'https://pbs.twimg.com/media/E37LSgGX0AYLxsy.jpg',\n",
              "     'sizes': {'large': {'h': 2048, 'resize': 'fit', 'w': 1536},\n",
              "      'medium': {'h': 1200, 'resize': 'fit', 'w': 900},\n",
              "      'small': {'h': 680, 'resize': 'fit', 'w': 510},\n",
              "      'thumb': {'h': 150, 'resize': 'crop', 'w': 150}},\n",
              "     'type': 'photo',\n",
              "     'url': 'https://t.co/nKUngL7x1Y'}],\n",
              "   'symbols': [],\n",
              "   'urls': [],\n",
              "   'user_mentions': []},\n",
              "  'extended_entities': {'media': [{'display_url': 'pic.twitter.com/nKUngL7x1Y',\n",
              "     'expanded_url': 'https://twitter.com/rosalia/status/1404783958030786561/photo/1',\n",
              "     'id': 1404783652500918278,\n",
              "     'id_str': '1404783652500918278',\n",
              "     'indices': [54, 77],\n",
              "     'media_url': 'http://pbs.twimg.com/media/E37LSgGX0AYLxsy.jpg',\n",
              "     'media_url_https': 'https://pbs.twimg.com/media/E37LSgGX0AYLxsy.jpg',\n",
              "     'sizes': {'large': {'h': 2048, 'resize': 'fit', 'w': 1536},\n",
              "      'medium': {'h': 1200, 'resize': 'fit', 'w': 900},\n",
              "      'small': {'h': 680, 'resize': 'fit', 'w': 510},\n",
              "      'thumb': {'h': 150, 'resize': 'crop', 'w': 150}},\n",
              "     'type': 'photo',\n",
              "     'url': 'https://t.co/nKUngL7x1Y'},\n",
              "    {'display_url': 'pic.twitter.com/nKUngL7x1Y',\n",
              "     'expanded_url': 'https://twitter.com/rosalia/status/1404783958030786561/photo/1',\n",
              "     'id': 1404783652613988360,\n",
              "     'id_str': '1404783652613988360',\n",
              "     'indices': [54, 77],\n",
              "     'media_url': 'http://pbs.twimg.com/media/E37LSghVIAg7eOy.jpg',\n",
              "     'media_url_https': 'https://pbs.twimg.com/media/E37LSghVIAg7eOy.jpg',\n",
              "     'sizes': {'large': {'h': 2048, 'resize': 'fit', 'w': 1536},\n",
              "      'medium': {'h': 1200, 'resize': 'fit', 'w': 900},\n",
              "      'small': {'h': 680, 'resize': 'fit', 'w': 510},\n",
              "      'thumb': {'h': 150, 'resize': 'crop', 'w': 150}},\n",
              "     'type': 'photo',\n",
              "     'url': 'https://t.co/nKUngL7x1Y'},\n",
              "    {'display_url': 'pic.twitter.com/nKUngL7x1Y',\n",
              "     'expanded_url': 'https://twitter.com/rosalia/status/1404783958030786561/photo/1',\n",
              "     'id': 1404783652496629765,\n",
              "     'id_str': '1404783652496629765',\n",
              "     'indices': [54, 77],\n",
              "     'media_url': 'http://pbs.twimg.com/media/E37LSgFWYAU4nXV.jpg',\n",
              "     'media_url_https': 'https://pbs.twimg.com/media/E37LSgFWYAU4nXV.jpg',\n",
              "     'sizes': {'large': {'h': 2048, 'resize': 'fit', 'w': 1536},\n",
              "      'medium': {'h': 1200, 'resize': 'fit', 'w': 900},\n",
              "      'small': {'h': 680, 'resize': 'fit', 'w': 510},\n",
              "      'thumb': {'h': 150, 'resize': 'crop', 'w': 150}},\n",
              "     'type': 'photo',\n",
              "     'url': 'https://t.co/nKUngL7x1Y'},\n",
              "    {'display_url': 'pic.twitter.com/nKUngL7x1Y',\n",
              "     'expanded_url': 'https://twitter.com/rosalia/status/1404783958030786561/photo/1',\n",
              "     'id': 1404783652626591747,\n",
              "     'id_str': '1404783652626591747',\n",
              "     'indices': [54, 77],\n",
              "     'media_url': 'http://pbs.twimg.com/media/E37LSgkVcAMHYnE.jpg',\n",
              "     'media_url_https': 'https://pbs.twimg.com/media/E37LSgkVcAMHYnE.jpg',\n",
              "     'sizes': {'large': {'h': 2048, 'resize': 'fit', 'w': 1536},\n",
              "      'medium': {'h': 1200, 'resize': 'fit', 'w': 900},\n",
              "      'small': {'h': 680, 'resize': 'fit', 'w': 510},\n",
              "      'thumb': {'h': 150, 'resize': 'crop', 'w': 150}},\n",
              "     'type': 'photo',\n",
              "     'url': 'https://t.co/nKUngL7x1Y'}]},\n",
              "  'favorite_count': 37185,\n",
              "  'favorited': False,\n",
              "  'geo': None,\n",
              "  'id': 1404783958030786561,\n",
              "  'id_str': '1404783958030786561',\n",
              "  'in_reply_to_screen_name': None,\n",
              "  'in_reply_to_status_id': None,\n",
              "  'in_reply_to_status_id_str': None,\n",
              "  'in_reply_to_user_id': None,\n",
              "  'in_reply_to_user_id_str': None,\n",
              "  'is_quote_status': False,\n",
              "  'lang': 'es',\n",
              "  'place': None,\n",
              "  'possibly_sensitive': False,\n",
              "  'retweet_count': 1485,\n",
              "  'retweeted': False,\n",
              "  'source': '<a href=\"http://twitter.com/download/iphone\" rel=\"nofollow\">Twitter for iPhone</a>',\n",
              "  'text': '☀️Barcelona es poderosa Barcelona tiene poderrrRRRRRR https://t.co/nKUngL7x1Y',\n",
              "  'truncated': False,\n",
              "  'user': {'contributors_enabled': False,\n",
              "   'created_at': 'Wed Sep 04 14:48:54 +0000 2013',\n",
              "   'default_profile': False,\n",
              "   'default_profile_image': False,\n",
              "   'description': 'https://t.co/eSmopJzW1W 🔥🔥 💖 🔥 🔥',\n",
              "   'entities': {'description': {'urls': [{'display_url': 'ROSALIA.COM',\n",
              "       'expanded_url': 'http://WWW.ROSALIA.COM',\n",
              "       'indices': [0, 23],\n",
              "       'url': 'https://t.co/eSmopJzW1W'}]},\n",
              "    'url': {'urls': [{'display_url': 'ROSALIA.lnk.to/ElMalQuerer',\n",
              "       'expanded_url': 'https://ROSALIA.lnk.to/ElMalQuerer',\n",
              "       'indices': [0, 23],\n",
              "       'url': 'https://t.co/EYuX4z6wmZ'}]}},\n",
              "   'favourites_count': 27512,\n",
              "   'follow_request_sent': False,\n",
              "   'followers_count': 2675930,\n",
              "   'following': False,\n",
              "   'friends_count': 27,\n",
              "   'geo_enabled': True,\n",
              "   'has_extended_profile': False,\n",
              "   'id': 1728956976,\n",
              "   'id_str': '1728956976',\n",
              "   'is_translation_enabled': False,\n",
              "   'is_translator': False,\n",
              "   'lang': None,\n",
              "   'listed_count': 974,\n",
              "   'location': 'Barcelona',\n",
              "   'name': 'R O S A L Í A',\n",
              "   'notifications': False,\n",
              "   'profile_background_color': '121414',\n",
              "   'profile_background_image_url': 'http://abs.twimg.com/images/themes/theme1/bg.png',\n",
              "   'profile_background_image_url_https': 'https://abs.twimg.com/images/themes/theme1/bg.png',\n",
              "   'profile_background_tile': True,\n",
              "   'profile_banner_url': 'https://pbs.twimg.com/profile_banners/1728956976/1558316306',\n",
              "   'profile_image_url': 'http://pbs.twimg.com/profile_images/1410016832048746498/7nb0zbG6_normal.jpg',\n",
              "   'profile_image_url_https': 'https://pbs.twimg.com/profile_images/1410016832048746498/7nb0zbG6_normal.jpg',\n",
              "   'profile_link_color': 'E81C4F',\n",
              "   'profile_sidebar_border_color': 'FFFFFF',\n",
              "   'profile_sidebar_fill_color': 'DDEEF6',\n",
              "   'profile_text_color': '333333',\n",
              "   'profile_use_background_image': True,\n",
              "   'protected': False,\n",
              "   'screen_name': 'rosalia',\n",
              "   'statuses_count': 5633,\n",
              "   'time_zone': None,\n",
              "   'translator_type': 'none',\n",
              "   'url': 'https://t.co/EYuX4z6wmZ',\n",
              "   'utc_offset': None,\n",
              "   'verified': True,\n",
              "   'withheld_in_countries': []}},\n",
              " {'contributors': None,\n",
              "  'coordinates': None,\n",
              "  'created_at': 'Tue Jun 08 18:46:56 +0000 2021',\n",
              "  'entities': {'hashtags': [],\n",
              "   'media': [{'display_url': 'pic.twitter.com/28pHU5awRe',\n",
              "     'expanded_url': 'https://twitter.com/rosalia/status/1402336358379757570/photo/1',\n",
              "     'id': 1402336343875796993,\n",
              "     'id_str': '1402336343875796993',\n",
              "     'indices': [2, 25],\n",
              "     'media_url': 'http://pbs.twimg.com/media/E3YZeZBWQAESEVg.jpg',\n",
              "     'media_url_https': 'https://pbs.twimg.com/media/E3YZeZBWQAESEVg.jpg',\n",
              "     'sizes': {'large': {'h': 2048, 'resize': 'fit', 'w': 1536},\n",
              "      'medium': {'h': 1200, 'resize': 'fit', 'w': 900},\n",
              "      'small': {'h': 680, 'resize': 'fit', 'w': 510},\n",
              "      'thumb': {'h': 150, 'resize': 'crop', 'w': 150}},\n",
              "     'type': 'photo',\n",
              "     'url': 'https://t.co/28pHU5awRe'}],\n",
              "   'symbols': [],\n",
              "   'urls': [],\n",
              "   'user_mentions': []},\n",
              "  'extended_entities': {'media': [{'display_url': 'pic.twitter.com/28pHU5awRe',\n",
              "     'expanded_url': 'https://twitter.com/rosalia/status/1402336358379757570/photo/1',\n",
              "     'id': 1402336343875796993,\n",
              "     'id_str': '1402336343875796993',\n",
              "     'indices': [2, 25],\n",
              "     'media_url': 'http://pbs.twimg.com/media/E3YZeZBWQAESEVg.jpg',\n",
              "     'media_url_https': 'https://pbs.twimg.com/media/E3YZeZBWQAESEVg.jpg',\n",
              "     'sizes': {'large': {'h': 2048, 'resize': 'fit', 'w': 1536},\n",
              "      'medium': {'h': 1200, 'resize': 'fit', 'w': 900},\n",
              "      'small': {'h': 680, 'resize': 'fit', 'w': 510},\n",
              "      'thumb': {'h': 150, 'resize': 'crop', 'w': 150}},\n",
              "     'type': 'photo',\n",
              "     'url': 'https://t.co/28pHU5awRe'},\n",
              "    {'display_url': 'pic.twitter.com/28pHU5awRe',\n",
              "     'expanded_url': 'https://twitter.com/rosalia/status/1402336358379757570/photo/1',\n",
              "     'id': 1402336343884247042,\n",
              "     'id_str': '1402336343884247042',\n",
              "     'indices': [2, 25],\n",
              "     'media_url': 'http://pbs.twimg.com/media/E3YZeZDXMAImjEk.jpg',\n",
              "     'media_url_https': 'https://pbs.twimg.com/media/E3YZeZDXMAImjEk.jpg',\n",
              "     'sizes': {'large': {'h': 2048, 'resize': 'fit', 'w': 1536},\n",
              "      'medium': {'h': 1200, 'resize': 'fit', 'w': 900},\n",
              "      'small': {'h': 680, 'resize': 'fit', 'w': 510},\n",
              "      'thumb': {'h': 150, 'resize': 'crop', 'w': 150}},\n",
              "     'type': 'photo',\n",
              "     'url': 'https://t.co/28pHU5awRe'},\n",
              "    {'display_url': 'pic.twitter.com/28pHU5awRe',\n",
              "     'expanded_url': 'https://twitter.com/rosalia/status/1402336358379757570/photo/1',\n",
              "     'id': 1402336343888388104,\n",
              "     'id_str': '1402336343888388104',\n",
              "     'indices': [2, 25],\n",
              "     'media_url': 'http://pbs.twimg.com/media/E3YZeZEWYAgf48A.jpg',\n",
              "     'media_url_https': 'https://pbs.twimg.com/media/E3YZeZEWYAgf48A.jpg',\n",
              "     'sizes': {'large': {'h': 1536, 'resize': 'fit', 'w': 2048},\n",
              "      'medium': {'h': 900, 'resize': 'fit', 'w': 1200},\n",
              "      'small': {'h': 510, 'resize': 'fit', 'w': 680},\n",
              "      'thumb': {'h': 150, 'resize': 'crop', 'w': 150}},\n",
              "     'type': 'photo',\n",
              "     'url': 'https://t.co/28pHU5awRe'},\n",
              "    {'display_url': 'pic.twitter.com/28pHU5awRe',\n",
              "     'expanded_url': 'https://twitter.com/rosalia/status/1402336358379757570/photo/1',\n",
              "     'id': 1402336343901016073,\n",
              "     'id_str': '1402336343901016073',\n",
              "     'indices': [2, 25],\n",
              "     'media_url': 'http://pbs.twimg.com/media/E3YZeZHXEAkCRPZ.jpg',\n",
              "     'media_url_https': 'https://pbs.twimg.com/media/E3YZeZHXEAkCRPZ.jpg',\n",
              "     'sizes': {'large': {'h': 1536, 'resize': 'fit', 'w': 2048},\n",
              "      'medium': {'h': 900, 'resize': 'fit', 'w': 1200},\n",
              "      'small': {'h': 510, 'resize': 'fit', 'w': 680},\n",
              "      'thumb': {'h': 150, 'resize': 'crop', 'w': 150}},\n",
              "     'type': 'photo',\n",
              "     'url': 'https://t.co/28pHU5awRe'}]},\n",
              "  'favorite_count': 46484,\n",
              "  'favorited': False,\n",
              "  'geo': None,\n",
              "  'id': 1402336358379757570,\n",
              "  'id_str': '1402336358379757570',\n",
              "  'in_reply_to_screen_name': None,\n",
              "  'in_reply_to_status_id': None,\n",
              "  'in_reply_to_status_id_str': None,\n",
              "  'in_reply_to_user_id': None,\n",
              "  'in_reply_to_user_id_str': None,\n",
              "  'is_quote_status': False,\n",
              "  'lang': 'und',\n",
              "  'place': None,\n",
              "  'possibly_sensitive': False,\n",
              "  'retweet_count': 2308,\n",
              "  'retweeted': False,\n",
              "  'source': '<a href=\"http://twitter.com/download/iphone\" rel=\"nofollow\">Twitter for iPhone</a>',\n",
              "  'text': '🌊 https://t.co/28pHU5awRe',\n",
              "  'truncated': False,\n",
              "  'user': {'contributors_enabled': False,\n",
              "   'created_at': 'Wed Sep 04 14:48:54 +0000 2013',\n",
              "   'default_profile': False,\n",
              "   'default_profile_image': False,\n",
              "   'description': 'https://t.co/eSmopJzW1W 🔥🔥 💖 🔥 🔥',\n",
              "   'entities': {'description': {'urls': [{'display_url': 'ROSALIA.COM',\n",
              "       'expanded_url': 'http://WWW.ROSALIA.COM',\n",
              "       'indices': [0, 23],\n",
              "       'url': 'https://t.co/eSmopJzW1W'}]},\n",
              "    'url': {'urls': [{'display_url': 'ROSALIA.lnk.to/ElMalQuerer',\n",
              "       'expanded_url': 'https://ROSALIA.lnk.to/ElMalQuerer',\n",
              "       'indices': [0, 23],\n",
              "       'url': 'https://t.co/EYuX4z6wmZ'}]}},\n",
              "   'favourites_count': 27512,\n",
              "   'follow_request_sent': False,\n",
              "   'followers_count': 2675930,\n",
              "   'following': False,\n",
              "   'friends_count': 27,\n",
              "   'geo_enabled': True,\n",
              "   'has_extended_profile': False,\n",
              "   'id': 1728956976,\n",
              "   'id_str': '1728956976',\n",
              "   'is_translation_enabled': False,\n",
              "   'is_translator': False,\n",
              "   'lang': None,\n",
              "   'listed_count': 974,\n",
              "   'location': 'Barcelona',\n",
              "   'name': 'R O S A L Í A',\n",
              "   'notifications': False,\n",
              "   'profile_background_color': '121414',\n",
              "   'profile_background_image_url': 'http://abs.twimg.com/images/themes/theme1/bg.png',\n",
              "   'profile_background_image_url_https': 'https://abs.twimg.com/images/themes/theme1/bg.png',\n",
              "   'profile_background_tile': True,\n",
              "   'profile_banner_url': 'https://pbs.twimg.com/profile_banners/1728956976/1558316306',\n",
              "   'profile_image_url': 'http://pbs.twimg.com/profile_images/1410016832048746498/7nb0zbG6_normal.jpg',\n",
              "   'profile_image_url_https': 'https://pbs.twimg.com/profile_images/1410016832048746498/7nb0zbG6_normal.jpg',\n",
              "   'profile_link_color': 'E81C4F',\n",
              "   'profile_sidebar_border_color': 'FFFFFF',\n",
              "   'profile_sidebar_fill_color': 'DDEEF6',\n",
              "   'profile_text_color': '333333',\n",
              "   'profile_use_background_image': True,\n",
              "   'protected': False,\n",
              "   'screen_name': 'rosalia',\n",
              "   'statuses_count': 5633,\n",
              "   'time_zone': None,\n",
              "   'translator_type': 'none',\n",
              "   'url': 'https://t.co/EYuX4z6wmZ',\n",
              "   'utc_offset': None,\n",
              "   'verified': True,\n",
              "   'withheld_in_countries': []}}]"
            ]
          },
          "metadata": {
            "tags": []
          },
          "execution_count": 107
        }
      ]
    },
    {
      "cell_type": "code",
      "metadata": {
        "colab": {
          "base_uri": "https://localhost:8080/"
        },
        "id": "euGcJupaK50X",
        "outputId": "46528915-8dec-41e6-8eec-934ba721ab0f"
      },
      "source": [
        "from datetime import datetime, time\n",
        "\n",
        "for i in range(len(tweets)):\n",
        "  Fecha = datetime.strptime(tweets[i]['created_at'],\"%a %b %d %H:%M:%S +0000 %Y\") \n",
        "  print(\"El tweet número\", i+1, \"se imprimió el dia\", Fecha.strftime(\"%d-%m-%Y\"), \"a las\", Fecha.strftime(\"%H:%M:%S\"),\". El tweet decia:\")\n",
        "  print(tweets[i]['text'])\n",
        "  print()"
      ],
      "execution_count": 119,
      "outputs": [
        {
          "output_type": "stream",
          "text": [
            "El tweet número 1 se imprimió el dia 29-06-2021 a las 23:00:23 . El tweet decia:\n",
            "Pk Paris es tan bonito?!!!!!??No entiendo\n",
            "\n",
            "El tweet número 2 se imprimió el dia 29-06-2021 a las 22:58:52 . El tweet decia:\n",
            "Se k m importa xk n puedo evitar comprarle ositos y bombones cada vez k paso x un aeropuerto\n",
            "\n",
            "El tweet número 3 se imprimió el dia 28-06-2021 a las 14:03:07 . El tweet decia:\n",
            "Con orgulloooooo\n",
            "\n",
            "El tweet número 4 se imprimió el dia 15-06-2021 a las 12:52:49 . El tweet decia:\n",
            "☀️Barcelona es poderosa Barcelona tiene poderrrRRRRRR https://t.co/nKUngL7x1Y\n",
            "\n",
            "El tweet número 5 se imprimió el dia 08-06-2021 a las 18:46:56 . El tweet decia:\n",
            "🌊 https://t.co/28pHU5awRe\n",
            "\n"
          ],
          "name": "stdout"
        }
      ]
    },
    {
      "cell_type": "code",
      "metadata": {
        "id": "kvMGcECzb_g9"
      },
      "source": [
        ""
      ],
      "execution_count": null,
      "outputs": []
    },
    {
      "cell_type": "code",
      "metadata": {
        "id": "m7EeBBQTbkiy"
      },
      "source": [
        "from tweepy import Stream,StreamListener\n",
        "\n",
        "class listener(StreamListener):\n",
        "    def __init__(self):\n",
        "        super().__init__()\n",
        "        self.counter = 0\n",
        "        self.limit = 5\n",
        "    def on_data(self, status):\n",
        "        json_data=json.loads(status)\n",
        "        print(str(json_data[\"user\"][\"screen_name\"])+', el '+datetime.strptime(json_data['created_at'],\"%a %b %d %H:%M:%S +0000 %Y\").strftime(\"%d-%m-%Y %H:%M:%S\")+' : '+ json_data[\"text\"])\n",
        "        self.counter += 1\n",
        "        if self.counter < self.limit:\n",
        "            return True\n",
        "        else:\n",
        "            twitterStream.disconnect()\n",
        "    def on_error(self, status):\n",
        "        print(status)"
      ],
      "execution_count": 131,
      "outputs": []
    },
    {
      "cell_type": "code",
      "metadata": {
        "colab": {
          "base_uri": "https://localhost:8080/"
        },
        "id": "k6KuQ6e6jAkF",
        "outputId": "56e673d5-8f74-45b0-e41d-e6f59552f5fc"
      },
      "source": [
        "#italia\n",
        "twitterStream = Stream(auth, listener()) \n",
        "twitterStream.filter(locations=[3.37,34.25,22.53,48.33],)"
      ],
      "execution_count": 140,
      "outputs": [
        {
          "output_type": "stream",
          "text": [
            "Ivke24790854, el 30-06-2021 20:57:31 : @OdonomadOki Svašta je došlo sa tim Miletom....\n",
            "hartyel1, el 30-06-2021 20:57:31 : @wqerFNBR @sabyfnbr @Awreyli @EnvyFn1x Ma bag si io\n",
            "libertina1964, el 30-06-2021 20:57:32 : @Agenzia_Ansa https://t.co/Z1m30Hqiem\n",
            "ProgettoTeatris, el 30-06-2021 20:57:36 : @JayGatb 😂😂...me ne prepari una?\n",
            "reinhardX, el 30-06-2021 20:57:36 : @Chlodwig14 @FrieborgG nicht im gleichen haushalt\n"
          ],
          "name": "stdout"
        }
      ]
    }
  ]
}